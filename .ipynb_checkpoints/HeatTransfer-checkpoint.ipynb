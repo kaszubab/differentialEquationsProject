{
 "cells": [
  {
   "cell_type": "code",
   "execution_count": 6,
   "metadata": {},
   "outputs": [],
   "source": [
    "elementTranslationMatrix = [[0 for x in range(4)] for x in range(3)]\n",
    "\n",
    "elementTranslationMatrix[0][0] = 2\n",
    "elementTranslationMatrix[0][1] = 3\n",
    "elementTranslationMatrix[0][2] = 1\n",
    "elementTranslationMatrix[0][3] = 0\n",
    "elementTranslationMatrix[1][0] = 5\n",
    "elementTranslationMatrix[1][1] = 6\n",
    "elementTranslationMatrix[1][2] = 3\n",
    "elementTranslationMatrix[1][3] = 2\n",
    "elementTranslationMatrix[2][0] = 6\n",
    "elementTranslationMatrix[2][1] = 7\n",
    "elementTranslationMatrix[2][2] = 4\n",
    "elementTranslationMatrix[2][3] = 3\n"
   ]
  },
  {
   "cell_type": "code",
   "execution_count": 23,
   "metadata": {},
   "outputs": [],
   "source": [
    "import numpy as np\n",
    "\n",
    "\n",
    "def  gFunction(x,y): #start and end of the edge\n",
    "    angle = np.arctan(y/x)\n",
    "    vecLenSquared = x*x + y*y\n",
    "    return (vecLenSquared**1/3) * (np.sin(angle + pi/4) ** (2/3))"
   ]
  },
  {
   "cell_type": "code",
   "execution_count": 24,
   "metadata": {},
   "outputs": [],
   "source": [
    "def getExactFunction(element,localFunction):\n",
    "    elementsLocation = [[-1,0],[-1,-1],[-1,0]]\n",
    "    \n",
    "    if localFunction == 0:\n",
    "        def exactF(x,y):\n",
    "            return (1 - (x - elementsLocation[element][0]) ) * (1 - (y - elementsLocation[element][1]))\n",
    "        return exactF\n",
    "    if localFunction == 1:\n",
    "        def exactF(x,y):\n",
    "            return (x - elementsLocation[element][0] ) * (1 - (y - elementsLocation[element][1]))\n",
    "        return exactF\n",
    "    if localFunction == 2:\n",
    "        def exactF(x,y):\n",
    "            return (x - elementsLocation[element][0] ) * (y - elementsLocation[element][1])\n",
    "        return exactF\n",
    "    if localFunction == 3:\n",
    "        def exactF(x,y):\n",
    "            return (1 - (x - elementsLocation[element][0]) ) * (y - elementsLocation[element][1])\n",
    "        return exactF\n",
    "    "
   ]
  },
  {
   "cell_type": "code",
   "execution_count": 25,
   "metadata": {},
   "outputs": [
    {
     "ename": "SyntaxError",
     "evalue": "invalid syntax (<ipython-input-25-5a578b75f218>, line 9)",
     "output_type": "error",
     "traceback": [
      "\u001b[1;36m  File \u001b[1;32m\"<ipython-input-25-5a578b75f218>\"\u001b[1;36m, line \u001b[1;32m9\u001b[0m\n\u001b[1;33m    lVector +=\u001b[0m\n\u001b[1;37m               ^\u001b[0m\n\u001b[1;31mSyntaxError\u001b[0m\u001b[1;31m:\u001b[0m invalid syntax\n"
     ]
    }
   ],
   "source": [
    "# Diffferential Equations Project\n",
    " \n",
    "bMatrix = [[0 for x in range (8)] for x in range(8)]\n",
    "lVector = [0 for x in range (8)]\n",
    "\n",
    "for element in range(3):\n",
    "    for localFunction in range(4):\n",
    "        row = elementTranslationMatrix[element][localFunction]\n",
    "        if (element = 0):\n",
    "            lVector += getExactFunction(element, localFunction)(-0.5, 1) *  gFunction(-0.5, 1)\n",
    "            +getExactFunction(element, localFunction)(-1,0.5) *  gFunction(-1, 0.5)\n",
    "        elif (element = 1):\n",
    "            lVector += getExactFunction(element, localFunction)(-0.5, -1) *  gFunction(-0.5, -1)\n",
    "            +getExactFunction(element, localFunction)(-1,-0.5) *  gFunction(-1, -0.5)\n",
    "        elif (element = 2)\n",
    "            lVector += getExactFunction(element, localFunction)(0.5, -1) *  gFunction(0.5, -1)\n",
    "            +getExactFunction(element, localFunction)(1,-0.5) *  gFunction(1, -0.5)\n",
    "        "
   ]
  },
  {
   "cell_type": "code",
   "execution_count": 27,
   "metadata": {},
   "outputs": [
    {
     "name": "stdout",
     "output_type": "stream",
     "text": [
      "[[0, 0, 0, 0, 0, 0, 0, 0], [0, 0, 0, 0, 0, 0, 0, 0], [0, 0, 0, 0, 0, 0, 0, 0], [0, 0, 0, 0, 0, 0, 0, 0], [0, 0, 0, 0, 0, 0, 0, 0], [0, 0, 0, 0, 0, 0, 0, 0], [0, 0, 0, 0, 0, 0, 0, 0], [0, 0, 0, 0, 0, 0, 0, 0]]\n",
      "[0, 0, 0, 0, 0, 0, 0, 0]\n"
     ]
    }
   ],
   "source": [
    "print(bMatrix)\n",
    "print(lVector)"
   ]
  },
  {
   "cell_type": "code",
   "execution_count": null,
   "metadata": {},
   "outputs": [],
   "source": []
  }
 ],
 "metadata": {
  "kernelspec": {
   "display_name": "Python 3",
   "language": "python",
   "name": "python3"
  },
  "language_info": {
   "codemirror_mode": {
    "name": "ipython",
    "version": 3
   },
   "file_extension": ".py",
   "mimetype": "text/x-python",
   "name": "python",
   "nbconvert_exporter": "python",
   "pygments_lexer": "ipython3",
   "version": "3.7.3"
  }
 },
 "nbformat": 4,
 "nbformat_minor": 2
}
